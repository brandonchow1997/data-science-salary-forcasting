{
 "cells": [
  {
   "cell_type": "code",
   "execution_count": 420,
   "metadata": {},
   "outputs": [],
   "source": [
    "import warnings\n",
    "warnings.filterwarnings(\"ignore\")"
   ]
  },
  {
   "cell_type": "markdown",
   "metadata": {},
   "source": [
    "# Read Data"
   ]
  },
  {
   "cell_type": "code",
   "execution_count": 421,
   "metadata": {},
   "outputs": [],
   "source": [
    "import pandas as pd\n",
    "from pandas import Series"
   ]
  },
  {
   "cell_type": "code",
   "execution_count": 422,
   "metadata": {},
   "outputs": [],
   "source": [
    "data_analysis = pd.read_csv('./data_to_be_analysed/data_analysis_with_skills.csv')\n",
    "data_mining = pd.read_csv('./data_to_be_analysed/data_mining_with_skills.csv')\n",
    "machine_learning = pd.read_csv('./data_to_be_analysed/machine_learning_with_skills.csv')\n",
    "business_analysis = pd.read_csv('./data_to_be_analysed/business_analysis_with_skills.csv')"
   ]
  },
  {
   "cell_type": "markdown",
   "metadata": {},
   "source": [
    "---"
   ]
  },
  {
   "cell_type": "markdown",
   "metadata": {},
   "source": [
    "## 添加薪资均值"
   ]
  },
  {
   "cell_type": "code",
   "execution_count": 423,
   "metadata": {},
   "outputs": [],
   "source": [
    "import re\n",
    "# 均值函数\n",
    "def average(job_salary):\n",
    "    # 取薪资均值----------------\n",
    "    pattern = re.compile('\\d+')\n",
    "    salary = job_salary\n",
    "    try:\n",
    "        res = re.findall(pattern, salary)\n",
    "        avg_salary = 0\n",
    "        sum = 0\n",
    "        for i in res:\n",
    "            a = int(i)\n",
    "            sum = sum + a\n",
    "            avg_salary = sum / 2\n",
    "    except Exception:\n",
    "        avg_salary = 0\n",
    "    # 函数返回值\n",
    "    return avg_salary\n",
    "\n",
    "salary_list = []\n",
    "for i in range(0,data_analysis.shape[0]):\n",
    "    avg_sal = average(data_analysis['职位薪资'][i])\n",
    "    salary_list.append(avg_sal)\n",
    "sal = Series(salary_list)\n",
    "\n",
    "data_analysis.insert(9,'salary',sal)"
   ]
  },
  {
   "cell_type": "code",
   "execution_count": 424,
   "metadata": {},
   "outputs": [],
   "source": [
    "salary_list = []\n",
    "for i in range(0,data_mining.shape[0]):\n",
    "    avg_sal = average(data_mining['职位薪资'][i])\n",
    "    salary_list.append(avg_sal)\n",
    "sal = Series(salary_list)\n",
    "\n",
    "data_mining.insert(9,'salary',sal)"
   ]
  },
  {
   "cell_type": "code",
   "execution_count": 425,
   "metadata": {},
   "outputs": [],
   "source": [
    "salary_list = []\n",
    "for i in range(0,machine_learning.shape[0]):\n",
    "    avg_sal = average(machine_learning['职位薪资'][i])\n",
    "    salary_list.append(avg_sal)\n",
    "sal = Series(salary_list)\n",
    "\n",
    "machine_learning.insert(9,'salary',sal)"
   ]
  },
  {
   "cell_type": "code",
   "execution_count": 426,
   "metadata": {},
   "outputs": [],
   "source": [
    "salary_list = []\n",
    "for i in range(0,business_analysis.shape[0]):\n",
    "    avg_sal = average(business_analysis['职位薪资'][i])\n",
    "    salary_list.append(avg_sal)\n",
    "sal = Series(salary_list)\n",
    "\n",
    "business_analysis.insert(9,'salary',sal)"
   ]
  },
  {
   "cell_type": "markdown",
   "metadata": {},
   "source": [
    "---"
   ]
  },
  {
   "cell_type": "markdown",
   "metadata": {},
   "source": [
    "# 薪资分布探索"
   ]
  },
  {
   "cell_type": "code",
   "execution_count": 427,
   "metadata": {},
   "outputs": [
    {
     "data": {
      "text/plain": [
       "count    575.000000\n",
       "mean      17.446957\n",
       "std        8.261053\n",
       "min        2.500000\n",
       "25%       11.500000\n",
       "50%       15.000000\n",
       "75%       22.500000\n",
       "max       47.500000\n",
       "Name: salary, dtype: float64"
      ]
     },
     "execution_count": 427,
     "metadata": {},
     "output_type": "execute_result"
    }
   ],
   "source": [
    "data_analysis.salary.describe()"
   ]
  },
  {
   "cell_type": "code",
   "execution_count": 428,
   "metadata": {},
   "outputs": [
    {
     "data": {
      "image/png": "[encoded data removed]",
      "text/plain": [
       "<matplotlib.figure.Figure at 0x13b4067fba8>"
      ]
     },
     "metadata": {
      "needs_background": "light"
     },
     "output_type": "display_data"
    }
   ],
   "source": [
    "%matplotlib inline\n",
    "import matplotlib.pyplot as plt\n",
    "data_analysis.salary.hist(bins=50, figsize=(8,5))\n",
    "\n",
    "plt.show()"
   ]
  },
  {
   "cell_type": "markdown",
   "metadata": {},
   "source": [
    "- 薪资主要分布在**5k-30k**之间"
   ]
  },
  {
   "cell_type": "markdown",
   "metadata": {},
   "source": [
    "---"
   ]
  },
  {
   "cell_type": "code",
   "execution_count": 429,
   "metadata": {},
   "outputs": [
    {
     "data": {
      "text/html": [
       "<div>\n",
       "<style scoped>\n",
       "    .dataframe tbody tr th:only-of-type {\n",
       "        vertical-align: middle;\n",
       "    }\n",
       "\n",
       "    .dataframe tbody tr th {\n",
       "        vertical-align: top;\n",
       "    }\n",
       "\n",
       "    .dataframe thead th {\n",
       "        text-align: right;\n",
       "    }\n",
       "</style>\n",
       "<table border=\"1\" class=\"dataframe\">\n",
       "  <thead>\n",
       "    <tr style=\"text-align: right;\">\n",
       "      <th></th>\n",
       "      <th>Unnamed: 0</th>\n",
       "      <th>Keyword</th>\n",
       "      <th>公司名称</th>\n",
       "      <th>公司规模</th>\n",
       "      <th>地区</th>\n",
       "      <th>学历要求</th>\n",
       "      <th>工作经验</th>\n",
       "      <th>职位名称</th>\n",
       "      <th>职位描述</th>\n",
       "      <th>salary</th>\n",
       "      <th>...</th>\n",
       "      <th>Sql</th>\n",
       "      <th>Python</th>\n",
       "      <th>Excel</th>\n",
       "      <th>Sas</th>\n",
       "      <th>Spss</th>\n",
       "      <th>Hive</th>\n",
       "      <th>Hadoop</th>\n",
       "      <th>Tableau</th>\n",
       "      <th>Ppt</th>\n",
       "      <th>Spark</th>\n",
       "    </tr>\n",
       "  </thead>\n",
       "  <tbody>\n",
       "    <tr>\n",
       "      <th>0</th>\n",
       "      <td>1</td>\n",
       "      <td>数据分析</td>\n",
       "      <td>上海恒奕集团</td>\n",
       "      <td>500-999人</td>\n",
       "      <td>上海 普陀区 武宁路</td>\n",
       "      <td>大专</td>\n",
       "      <td>1-3年</td>\n",
       "      <td>数据分析</td>\n",
       "      <td>岗位职责：通过抓取第三方数据来分析在不同地区，我们医院项目的目标人群画像分析，实时网络热度盘...</td>\n",
       "      <td>10.0</td>\n",
       "      <td>...</td>\n",
       "      <td>0</td>\n",
       "      <td>0</td>\n",
       "      <td>0</td>\n",
       "      <td>0</td>\n",
       "      <td>0</td>\n",
       "      <td>0</td>\n",
       "      <td>0</td>\n",
       "      <td>0</td>\n",
       "      <td>0</td>\n",
       "      <td>0</td>\n",
       "    </tr>\n",
       "    <tr>\n",
       "      <th>1</th>\n",
       "      <td>2</td>\n",
       "      <td>数据分析</td>\n",
       "      <td>晶赞科技</td>\n",
       "      <td>100-499人</td>\n",
       "      <td>上海 静安区 共和新路</td>\n",
       "      <td>本科</td>\n",
       "      <td>3-5年</td>\n",
       "      <td>数据分析</td>\n",
       "      <td>工作职责：1、负责政务数据/商业数据的研究和分析。例如，通过政务公开数据的挖掘和分析，形成主...</td>\n",
       "      <td>18.0</td>\n",
       "      <td>...</td>\n",
       "      <td>0</td>\n",
       "      <td>1</td>\n",
       "      <td>1</td>\n",
       "      <td>1</td>\n",
       "      <td>1</td>\n",
       "      <td>0</td>\n",
       "      <td>0</td>\n",
       "      <td>0</td>\n",
       "      <td>0</td>\n",
       "      <td>0</td>\n",
       "    </tr>\n",
       "  </tbody>\n",
       "</table>\n",
       "<p>2 rows × 22 columns</p>\n",
       "</div>"
      ],
      "text/plain": [
       "   Unnamed: 0 Keyword    公司名称      公司规模           地区 学历要求  工作经验  职位名称  \\\n",
       "0           1    数据分析  上海恒奕集团  500-999人   上海 普陀区 武宁路   大专  1-3年  数据分析   \n",
       "1           2    数据分析    晶赞科技  100-499人  上海 静安区 共和新路   本科  3-5年  数据分析   \n",
       "\n",
       "                                                职位描述  salary  ...   Sql  \\\n",
       "0  岗位职责：通过抓取第三方数据来分析在不同地区，我们医院项目的目标人群画像分析，实时网络热度盘...    10.0  ...     0   \n",
       "1  工作职责：1、负责政务数据/商业数据的研究和分析。例如，通过政务公开数据的挖掘和分析，形成主...    18.0  ...     0   \n",
       "\n",
       "  Python  Excel  Sas  Spss  Hive  Hadoop  Tableau  Ppt  Spark  \n",
       "0      0      0    0     0     0       0        0    0      0  \n",
       "1      1      1    1     1     0       0        0    0      0  \n",
       "\n",
       "[2 rows x 22 columns]"
      ]
     },
     "execution_count": 429,
     "metadata": {},
     "output_type": "execute_result"
    }
   ],
   "source": [
    "data_analysis.head(2)"
   ]
  },
  {
   "cell_type": "code",
   "execution_count": 430,
   "metadata": {},
   "outputs": [],
   "source": [
    "data_analysis = data_analysis.drop(['Unnamed: 0','Keyword','职位描述','职位薪资'],axis=1)"
   ]
  },
  {
   "cell_type": "code",
   "execution_count": 431,
   "metadata": {},
   "outputs": [],
   "source": [
    "data_mining = data_mining.drop(['Unnamed: 0','Keyword','职位描述','职位薪资'],axis=1)"
   ]
  },
  {
   "cell_type": "code",
   "execution_count": 432,
   "metadata": {},
   "outputs": [],
   "source": [
    "machine_learning = machine_learning.drop(['Unnamed: 0','Keyword','职位描述','职位薪资'],axis=1)"
   ]
  },
  {
   "cell_type": "code",
   "execution_count": 433,
   "metadata": {},
   "outputs": [],
   "source": [
    "business_analysis = business_analysis.drop(['Unnamed: 0','Keyword','职位描述','职位薪资'],axis=1)"
   ]
  },
  {
   "cell_type": "markdown",
   "metadata": {},
   "source": [
    "---"
   ]
  },
  {
   "cell_type": "markdown",
   "metadata": {},
   "source": [
    "## 掌握的软件技能对薪资的影响关系"
   ]
  },
  {
   "cell_type": "code",
   "execution_count": 434,
   "metadata": {},
   "outputs": [
    {
     "data": {
      "text/plain": [
       "salary     1.000000\n",
       "Hive       0.292764\n",
       "Hadoop     0.254448\n",
       "Python     0.242217\n",
       "Sql        0.235256\n",
       "Spark      0.216505\n",
       "Sas        0.119493\n",
       "Tableau    0.044519\n",
       "Spss       0.024708\n",
       "Ppt       -0.042691\n",
       "Excel     -0.140370\n",
       "Name: salary, dtype: float64"
      ]
     },
     "execution_count": 434,
     "metadata": {},
     "output_type": "execute_result"
    }
   ],
   "source": [
    "corr_matrix = data_analysis.corr()\n",
    "corr_matrix[\"salary\"].sort_values(ascending=False)"
   ]
  },
  {
   "cell_type": "markdown",
   "metadata": {},
   "source": [
    "- **Data Analysis**的职位中，`Hive`,`Spark`,`Hadoop`大数据应用方面的软件是**薪资的加分项**。\n",
    "- 同时，`Python`,`SQL`,`SAS`,`Tableau`,`SPSS`等统计分析软件与可视化软件也是数据分析师**区别于低薪分析专员**的因素。\n",
    "- `PPT`,`Excel`作为必须的软件技能，对薪资变化**并没有太大的影响**，甚至仅仅会Excel的职位沦落为专员，会是一个减分项。\n",
    "- 结论：在数据分析领域，拥有**大数据软件技能**并且懂得**Python**这一编程语言的分析师的待遇较好。"
   ]
  },
  {
   "cell_type": "code",
   "execution_count": 435,
   "metadata": {},
   "outputs": [
    {
     "data": {
      "text/plain": [
       "salary    1.000000\n",
       "Hive      0.195964\n",
       "Spark     0.180962\n",
       "Java      0.180336\n",
       "Hadoop    0.136721\n",
       "C         0.127518\n",
       "Python    0.067957\n",
       "Shell     0.020722\n",
       "Linux    -0.009015\n",
       "Sql      -0.052715\n",
       "Sas      -0.089915\n",
       "Name: salary, dtype: float64"
      ]
     },
     "execution_count": 435,
     "metadata": {},
     "output_type": "execute_result"
    }
   ],
   "source": [
    "corr_matrix = data_mining.corr()\n",
    "corr_matrix[\"salary\"].sort_values(ascending=False)"
   ]
  },
  {
   "cell_type": "markdown",
   "metadata": {},
   "source": [
    "- **Data Mining**的职位中，`Hive`,`Spark`,`Hadoop`大数据方面的软件是薪资**极大的加分项**。\n",
    "- `Java`,`C`,`Python`等编程语言对数据挖掘的工作有很大帮助因此也体现在了对薪资的**正面影响**上。\n",
    "- 分析结论：具备**数据挖掘算法与编码能力**且具备**大数据方面分析技能**的数据挖掘工程师的待遇较好。"
   ]
  },
  {
   "cell_type": "code",
   "execution_count": 436,
   "metadata": {
    "scrolled": true
   },
   "outputs": [
    {
     "data": {
      "text/plain": [
       "salary        1.000000\n",
       "Hive          0.095518\n",
       "Spark         0.093537\n",
       "Java          0.064341\n",
       "Tensorflow    0.059785\n",
       "Hadoop        0.057670\n",
       "Sql          -0.035192\n",
       "Linux        -0.036466\n",
       "C            -0.052703\n",
       "Matlab       -0.058808\n",
       "Python       -0.104268\n",
       "Name: salary, dtype: float64"
      ]
     },
     "execution_count": 436,
     "metadata": {},
     "output_type": "execute_result"
    }
   ],
   "source": [
    "corr_matrix = machine_learning.corr()\n",
    "corr_matrix[\"salary\"].sort_values(ascending=False)"
   ]
  },
  {
   "cell_type": "markdown",
   "metadata": {},
   "source": [
    "- **Machine Learning**的职位中，没有特别突出的技能加分项，列表中的软件技能基本都是入职必备的技能。\n",
    "- `Hive`,`Spark`,`Hadoop`等大数据方面的技能会对薪资有一定程度的提升，不过影响较小。\n",
    "- 分析结论：机器学习工程师入门难度稍高，需要掌握具备的软件技能也较多，没有特别突出的薪资加分项。"
   ]
  },
  {
   "cell_type": "code",
   "execution_count": 437,
   "metadata": {},
   "outputs": [
    {
     "data": {
      "text/plain": [
       "salary    1.000000\n",
       "C         0.399615\n",
       "Python    0.377288\n",
       "Linux     0.255181\n",
       "Java      0.237707\n",
       "Hive      0.153111\n",
       "Sql       0.115494\n",
       "Sas       0.085293\n",
       "Excel     0.059614\n",
       "Ppt      -0.057346\n",
       "Spss     -0.068219\n",
       "Name: salary, dtype: float64"
      ]
     },
     "execution_count": 437,
     "metadata": {},
     "output_type": "execute_result"
    }
   ],
   "source": [
    "corr_matrix = business_analysis.corr()\n",
    "corr_matrix[\"salary\"].sort_values(ascending=False)"
   ]
  },
  {
   "cell_type": "markdown",
   "metadata": {},
   "source": [
    "- **Business Analysis**的职位中，编程语言是**极大的薪资加分项**。如`C`,`Python`,`Java`。\n",
    "- `Excel`,`PPT`,`SPSS`等软件是这个职位的**必备技能**，因此对职位薪资没有太大的影响。\n",
    "- 结论：在商业分析领域，拥有**商业分析思维**并且具有**编程能力**的分析师的待遇较好。"
   ]
  },
  {
   "cell_type": "markdown",
   "metadata": {},
   "source": [
    "---"
   ]
  },
  {
   "cell_type": "markdown",
   "metadata": {},
   "source": [
    "---"
   ]
  },
  {
   "cell_type": "markdown",
   "metadata": {},
   "source": [
    "# 准备数据"
   ]
  },
  {
   "cell_type": "code",
   "execution_count": 438,
   "metadata": {},
   "outputs": [
    {
     "data": {
      "text/html": [
       "<div>\n",
       "<style scoped>\n",
       "    .dataframe tbody tr th:only-of-type {\n",
       "        vertical-align: middle;\n",
       "    }\n",
       "\n",
       "    .dataframe tbody tr th {\n",
       "        vertical-align: top;\n",
       "    }\n",
       "\n",
       "    .dataframe thead th {\n",
       "        text-align: right;\n",
       "    }\n",
       "</style>\n",
       "<table border=\"1\" class=\"dataframe\">\n",
       "  <thead>\n",
       "    <tr style=\"text-align: right;\">\n",
       "      <th></th>\n",
       "      <th>公司名称</th>\n",
       "      <th>公司规模</th>\n",
       "      <th>地区</th>\n",
       "      <th>学历要求</th>\n",
       "      <th>工作经验</th>\n",
       "      <th>职位名称</th>\n",
       "      <th>salary</th>\n",
       "      <th>融资情况</th>\n",
       "      <th>Sql</th>\n",
       "      <th>Python</th>\n",
       "      <th>Excel</th>\n",
       "      <th>Sas</th>\n",
       "      <th>Spss</th>\n",
       "      <th>Hive</th>\n",
       "      <th>Hadoop</th>\n",
       "      <th>Tableau</th>\n",
       "      <th>Ppt</th>\n",
       "      <th>Spark</th>\n",
       "    </tr>\n",
       "  </thead>\n",
       "  <tbody>\n",
       "    <tr>\n",
       "      <th>0</th>\n",
       "      <td>上海恒奕集团</td>\n",
       "      <td>500-999人</td>\n",
       "      <td>上海 普陀区 武宁路</td>\n",
       "      <td>大专</td>\n",
       "      <td>1-3年</td>\n",
       "      <td>数据分析</td>\n",
       "      <td>10.0</td>\n",
       "      <td>A轮</td>\n",
       "      <td>0</td>\n",
       "      <td>0</td>\n",
       "      <td>0</td>\n",
       "      <td>0</td>\n",
       "      <td>0</td>\n",
       "      <td>0</td>\n",
       "      <td>0</td>\n",
       "      <td>0</td>\n",
       "      <td>0</td>\n",
       "      <td>0</td>\n",
       "    </tr>\n",
       "    <tr>\n",
       "      <th>1</th>\n",
       "      <td>晶赞科技</td>\n",
       "      <td>100-499人</td>\n",
       "      <td>上海 静安区 共和新路</td>\n",
       "      <td>本科</td>\n",
       "      <td>3-5年</td>\n",
       "      <td>数据分析</td>\n",
       "      <td>18.0</td>\n",
       "      <td>D轮及以上</td>\n",
       "      <td>0</td>\n",
       "      <td>1</td>\n",
       "      <td>1</td>\n",
       "      <td>1</td>\n",
       "      <td>1</td>\n",
       "      <td>0</td>\n",
       "      <td>0</td>\n",
       "      <td>0</td>\n",
       "      <td>0</td>\n",
       "      <td>0</td>\n",
       "    </tr>\n",
       "  </tbody>\n",
       "</table>\n",
       "</div>"
      ],
      "text/plain": [
       "     公司名称      公司规模           地区 学历要求  工作经验  职位名称  salary   融资情况  Sql  Python  \\\n",
       "0  上海恒奕集团  500-999人   上海 普陀区 武宁路   大专  1-3年  数据分析    10.0     A轮    0       0   \n",
       "1    晶赞科技  100-499人  上海 静安区 共和新路   本科  3-5年  数据分析    18.0  D轮及以上    0       1   \n",
       "\n",
       "   Excel  Sas  Spss  Hive  Hadoop  Tableau  Ppt  Spark  \n",
       "0      0    0     0     0       0        0    0      0  \n",
       "1      1    1     1     0       0        0    0      0  "
      ]
     },
     "execution_count": 438,
     "metadata": {},
     "output_type": "execute_result"
    }
   ],
   "source": [
    "data_analysis.head(2)"
   ]
  },
  {
   "cell_type": "code",
   "execution_count": 439,
   "metadata": {},
   "outputs": [],
   "source": [
    "from sklearn.model_selection import train_test_split\n",
    "\n",
    "train_set, test_set = train_test_split(data_analysis, test_size=0.2, random_state=52)"
   ]
  },
  {
   "cell_type": "code",
   "execution_count": 440,
   "metadata": {},
   "outputs": [],
   "source": [
    "data_train = train_set.copy()\n",
    "data_test = test_set.copy()"
   ]
  },
  {
   "cell_type": "code",
   "execution_count": 441,
   "metadata": {},
   "outputs": [
    {
     "data": {
      "text/plain": [
       "(460, 18)"
      ]
     },
     "execution_count": 441,
     "metadata": {},
     "output_type": "execute_result"
    }
   ],
   "source": [
    "data_train.shape"
   ]
  },
  {
   "cell_type": "code",
   "execution_count": 442,
   "metadata": {},
   "outputs": [
    {
     "data": {
      "text/plain": [
       "(115, 18)"
      ]
     },
     "execution_count": 442,
     "metadata": {},
     "output_type": "execute_result"
    }
   ],
   "source": [
    "data_test.shape"
   ]
  },
  {
   "cell_type": "code",
   "execution_count": 443,
   "metadata": {},
   "outputs": [],
   "source": [
    "from sklearn.pipeline import Pipeline\n",
    "from sklearn.preprocessing import StandardScaler\n",
    "from sklearn.preprocessing import Imputer\n",
    "from sklearn.compose import ColumnTransformer\n",
    "from sklearn.preprocessing import OneHotEncoder"
   ]
  },
  {
   "cell_type": "code",
   "execution_count": 444,
   "metadata": {},
   "outputs": [
    {
     "data": {
      "text/html": [
       "<div>\n",
       "<style scoped>\n",
       "    .dataframe tbody tr th:only-of-type {\n",
       "        vertical-align: middle;\n",
       "    }\n",
       "\n",
       "    .dataframe tbody tr th {\n",
       "        vertical-align: top;\n",
       "    }\n",
       "\n",
       "    .dataframe thead th {\n",
       "        text-align: right;\n",
       "    }\n",
       "</style>\n",
       "<table border=\"1\" class=\"dataframe\">\n",
       "  <thead>\n",
       "    <tr style=\"text-align: right;\">\n",
       "      <th></th>\n",
       "      <th>公司名称</th>\n",
       "      <th>公司规模</th>\n",
       "      <th>地区</th>\n",
       "      <th>学历要求</th>\n",
       "      <th>工作经验</th>\n",
       "      <th>职位名称</th>\n",
       "      <th>salary</th>\n",
       "      <th>融资情况</th>\n",
       "      <th>Sql</th>\n",
       "      <th>Python</th>\n",
       "      <th>Excel</th>\n",
       "      <th>Sas</th>\n",
       "      <th>Spss</th>\n",
       "      <th>Hive</th>\n",
       "      <th>Hadoop</th>\n",
       "      <th>Tableau</th>\n",
       "      <th>Ppt</th>\n",
       "      <th>Spark</th>\n",
       "    </tr>\n",
       "  </thead>\n",
       "  <tbody>\n",
       "    <tr>\n",
       "      <th>0</th>\n",
       "      <td>上海恒奕集团</td>\n",
       "      <td>500-999人</td>\n",
       "      <td>上海 普陀区 武宁路</td>\n",
       "      <td>大专</td>\n",
       "      <td>1-3年</td>\n",
       "      <td>数据分析</td>\n",
       "      <td>10.0</td>\n",
       "      <td>A轮</td>\n",
       "      <td>0</td>\n",
       "      <td>0</td>\n",
       "      <td>0</td>\n",
       "      <td>0</td>\n",
       "      <td>0</td>\n",
       "      <td>0</td>\n",
       "      <td>0</td>\n",
       "      <td>0</td>\n",
       "      <td>0</td>\n",
       "      <td>0</td>\n",
       "    </tr>\n",
       "  </tbody>\n",
       "</table>\n",
       "</div>"
      ],
      "text/plain": [
       "     公司名称      公司规模          地区 学历要求  工作经验  职位名称  salary 融资情况  Sql  Python  \\\n",
       "0  上海恒奕集团  500-999人  上海 普陀区 武宁路   大专  1-3年  数据分析    10.0   A轮    0       0   \n",
       "\n",
       "   Excel  Sas  Spss  Hive  Hadoop  Tableau  Ppt  Spark  \n",
       "0      0    0     0     0       0        0    0      0  "
      ]
     },
     "execution_count": 444,
     "metadata": {},
     "output_type": "execute_result"
    }
   ],
   "source": [
    "data_analysis.head(1)"
   ]
  },
  {
   "cell_type": "code",
   "execution_count": 445,
   "metadata": {},
   "outputs": [],
   "source": [
    "data_analysis_num = data_analysis.drop(['公司名称','公司规模','地区','学历要求','工作经验','职位名称','融资情况','salary'], axis=1)\n",
    "num_attribs = list(data_analysis_num)\n",
    "cat_attribs = ['公司规模','学历要求','工作经验','融资情况']\n",
    "\n",
    "num_pipeline = Pipeline([\n",
    "        ('std_scaler', StandardScaler()),\n",
    "    ])\n",
    "\n",
    "full_pipeline = ColumnTransformer([\n",
    "        (\"num\", num_pipeline, num_attribs),\n",
    "        (\"cat\", OneHotEncoder(), cat_attribs),\n",
    "    ])\n",
    "\n",
    "data_analysis_prepared = full_pipeline.fit_transform(data_train)\n",
    "data_analysis_test = full_pipeline.transform(data_test)"
   ]
  },
  {
   "cell_type": "code",
   "execution_count": 446,
   "metadata": {
    "scrolled": true
   },
   "outputs": [
    {
     "data": {
      "text/plain": [
       "array([[-1.04902651, -0.99566158, -0.6853091 , -0.58404441, -0.5       ,\n",
       "        -0.4307749 , -0.38729833,  2.68594224, -0.37608404, -0.27343437,\n",
       "         0.        ,  0.        ,  1.        ,  0.        ,  0.        ,\n",
       "         0.        ,  0.        ,  0.        ,  1.        ,  0.        ,\n",
       "         0.        ,  0.        ,  0.        ,  0.        ,  1.        ,\n",
       "         0.        ,  0.        ,  0.        ,  0.        ,  0.        ,\n",
       "         0.        ,  0.        ,  0.        ,  0.        ,  0.        ,\n",
       "         0.        ,  0.        ,  0.        ,  0.        ,  1.        ,\n",
       "         0.        ]])"
      ]
     },
     "execution_count": 446,
     "metadata": {},
     "output_type": "execute_result"
    }
   ],
   "source": [
    "data_analysis_prepared[:1]"
   ]
  },
  {
   "cell_type": "code",
   "execution_count": 447,
   "metadata": {},
   "outputs": [],
   "source": [
    "data_analysis_labels = data_train.salary.values\n",
    "test_labels = data_test.salary.values"
   ]
  },
  {
   "cell_type": "markdown",
   "metadata": {},
   "source": [
    "---"
   ]
  },
  {
   "cell_type": "markdown",
   "metadata": {},
   "source": [
    "# 训练模型"
   ]
  },
  {
   "cell_type": "markdown",
   "metadata": {},
   "source": [
    "## Linear"
   ]
  },
  {
   "cell_type": "code",
   "execution_count": 448,
   "metadata": {},
   "outputs": [
    {
     "data": {
      "text/plain": [
       "LinearRegression(copy_X=True, fit_intercept=True, n_jobs=None,\n",
       "         normalize=False)"
      ]
     },
     "execution_count": 448,
     "metadata": {},
     "output_type": "execute_result"
    }
   ],
   "source": [
    "from sklearn.linear_model import LinearRegression\n",
    "\n",
    "lin_reg = LinearRegression()\n",
    "lin_reg.fit(data_analysis_prepared, data_analysis_labels)"
   ]
  },
  {
   "cell_type": "code",
   "execution_count": 449,
   "metadata": {},
   "outputs": [
    {
     "data": {
      "text/plain": [
       "5.402995127278521"
      ]
     },
     "execution_count": 449,
     "metadata": {},
     "output_type": "execute_result"
    }
   ],
   "source": [
    "from sklearn.metrics import mean_squared_error\n",
    "import numpy as np\n",
    "\n",
    "salary_predictions = lin_reg.predict(data_analysis_prepared)\n",
    "lin_mse = mean_squared_error(data_analysis_labels, salary_predictions)\n",
    "lin_rmse = np.sqrt(lin_mse)\n",
    "lin_rmse"
   ]
  },
  {
   "cell_type": "code",
   "execution_count": 450,
   "metadata": {},
   "outputs": [],
   "source": [
    "#salary_predictions[:10]"
   ]
  },
  {
   "cell_type": "markdown",
   "metadata": {},
   "source": [
    "### 测试集"
   ]
  },
  {
   "cell_type": "code",
   "execution_count": 451,
   "metadata": {},
   "outputs": [
    {
     "data": {
      "text/html": [
       "<div>\n",
       "<style scoped>\n",
       "    .dataframe tbody tr th:only-of-type {\n",
       "        vertical-align: middle;\n",
       "    }\n",
       "\n",
       "    .dataframe tbody tr th {\n",
       "        vertical-align: top;\n",
       "    }\n",
       "\n",
       "    .dataframe thead th {\n",
       "        text-align: right;\n",
       "    }\n",
       "</style>\n",
       "<table border=\"1\" class=\"dataframe\">\n",
       "  <thead>\n",
       "    <tr style=\"text-align: right;\">\n",
       "      <th></th>\n",
       "      <th>公司名称</th>\n",
       "      <th>公司规模</th>\n",
       "      <th>地区</th>\n",
       "      <th>学历要求</th>\n",
       "      <th>工作经验</th>\n",
       "      <th>职位名称</th>\n",
       "      <th>salary</th>\n",
       "      <th>融资情况</th>\n",
       "      <th>Sql</th>\n",
       "      <th>Python</th>\n",
       "      <th>Excel</th>\n",
       "      <th>Sas</th>\n",
       "      <th>Spss</th>\n",
       "      <th>Hive</th>\n",
       "      <th>Hadoop</th>\n",
       "      <th>Tableau</th>\n",
       "      <th>Ppt</th>\n",
       "      <th>Spark</th>\n",
       "    </tr>\n",
       "  </thead>\n",
       "  <tbody>\n",
       "    <tr>\n",
       "      <th>198</th>\n",
       "      <td>上海克顿文化传媒</td>\n",
       "      <td>100-499人</td>\n",
       "      <td>上海 黄浦区 新天地</td>\n",
       "      <td>本科</td>\n",
       "      <td>3-5年</td>\n",
       "      <td>数据分析师</td>\n",
       "      <td>11.5</td>\n",
       "      <td>已上市</td>\n",
       "      <td>0</td>\n",
       "      <td>0</td>\n",
       "      <td>0</td>\n",
       "      <td>0</td>\n",
       "      <td>1</td>\n",
       "      <td>0</td>\n",
       "      <td>0</td>\n",
       "      <td>0</td>\n",
       "      <td>1</td>\n",
       "      <td>0</td>\n",
       "    </tr>\n",
       "    <tr>\n",
       "      <th>316</th>\n",
       "      <td>今日头条</td>\n",
       "      <td>10000人以上</td>\n",
       "      <td>上海 徐汇区 上海南站</td>\n",
       "      <td>本科</td>\n",
       "      <td>1-3年</td>\n",
       "      <td>广告数据分析师</td>\n",
       "      <td>11.5</td>\n",
       "      <td>D轮及以上</td>\n",
       "      <td>1</td>\n",
       "      <td>0</td>\n",
       "      <td>1</td>\n",
       "      <td>1</td>\n",
       "      <td>1</td>\n",
       "      <td>0</td>\n",
       "      <td>0</td>\n",
       "      <td>0</td>\n",
       "      <td>0</td>\n",
       "      <td>0</td>\n",
       "    </tr>\n",
       "    <tr>\n",
       "      <th>52</th>\n",
       "      <td>壹米滴答</td>\n",
       "      <td>10000人以上</td>\n",
       "      <td>上海 青浦区 徐泾</td>\n",
       "      <td>本科</td>\n",
       "      <td>1-3年</td>\n",
       "      <td>资深BI数据分析师</td>\n",
       "      <td>16.0</td>\n",
       "      <td>C轮</td>\n",
       "      <td>1</td>\n",
       "      <td>0</td>\n",
       "      <td>0</td>\n",
       "      <td>0</td>\n",
       "      <td>0</td>\n",
       "      <td>0</td>\n",
       "      <td>1</td>\n",
       "      <td>0</td>\n",
       "      <td>0</td>\n",
       "      <td>1</td>\n",
       "    </tr>\n",
       "    <tr>\n",
       "      <th>313</th>\n",
       "      <td>拼多多</td>\n",
       "      <td>1000-9999人</td>\n",
       "      <td>上海 长宁区 天山路</td>\n",
       "      <td>本科</td>\n",
       "      <td>经验不限</td>\n",
       "      <td>数据分析师</td>\n",
       "      <td>22.5</td>\n",
       "      <td>已上市</td>\n",
       "      <td>1</td>\n",
       "      <td>1</td>\n",
       "      <td>0</td>\n",
       "      <td>0</td>\n",
       "      <td>0</td>\n",
       "      <td>1</td>\n",
       "      <td>0</td>\n",
       "      <td>0</td>\n",
       "      <td>0</td>\n",
       "      <td>0</td>\n",
       "    </tr>\n",
       "    <tr>\n",
       "      <th>19</th>\n",
       "      <td>太平洋房屋</td>\n",
       "      <td>10000人以上</td>\n",
       "      <td>上海 徐汇区 枫林路</td>\n",
       "      <td>本科</td>\n",
       "      <td>1-3年</td>\n",
       "      <td>数据分析师</td>\n",
       "      <td>12.0</td>\n",
       "      <td>已上市</td>\n",
       "      <td>1</td>\n",
       "      <td>1</td>\n",
       "      <td>1</td>\n",
       "      <td>0</td>\n",
       "      <td>0</td>\n",
       "      <td>0</td>\n",
       "      <td>0</td>\n",
       "      <td>1</td>\n",
       "      <td>0</td>\n",
       "      <td>0</td>\n",
       "    </tr>\n",
       "    <tr>\n",
       "      <th>482</th>\n",
       "      <td>印鹰</td>\n",
       "      <td>100-499人</td>\n",
       "      <td>上海 静安区 汶水路</td>\n",
       "      <td>本科</td>\n",
       "      <td>3-5年</td>\n",
       "      <td>数据分析经理</td>\n",
       "      <td>20.0</td>\n",
       "      <td>B轮</td>\n",
       "      <td>1</td>\n",
       "      <td>0</td>\n",
       "      <td>0</td>\n",
       "      <td>0</td>\n",
       "      <td>0</td>\n",
       "      <td>0</td>\n",
       "      <td>1</td>\n",
       "      <td>0</td>\n",
       "      <td>0</td>\n",
       "      <td>0</td>\n",
       "    </tr>\n",
       "    <tr>\n",
       "      <th>212</th>\n",
       "      <td>复硕正态</td>\n",
       "      <td>20-99人</td>\n",
       "      <td>上海 静安区 大宁路</td>\n",
       "      <td>本科</td>\n",
       "      <td>1-3年</td>\n",
       "      <td>高级数据分析员</td>\n",
       "      <td>10.0</td>\n",
       "      <td>不需要融资</td>\n",
       "      <td>0</td>\n",
       "      <td>0</td>\n",
       "      <td>0</td>\n",
       "      <td>0</td>\n",
       "      <td>1</td>\n",
       "      <td>0</td>\n",
       "      <td>0</td>\n",
       "      <td>0</td>\n",
       "      <td>1</td>\n",
       "      <td>0</td>\n",
       "    </tr>\n",
       "    <tr>\n",
       "      <th>127</th>\n",
       "      <td>云序生物</td>\n",
       "      <td>20-99人</td>\n",
       "      <td>上海 松江区 新桥</td>\n",
       "      <td>大专</td>\n",
       "      <td>1-3年</td>\n",
       "      <td>生信分析师/数据分析</td>\n",
       "      <td>8.0</td>\n",
       "      <td>不需要融资</td>\n",
       "      <td>0</td>\n",
       "      <td>1</td>\n",
       "      <td>0</td>\n",
       "      <td>0</td>\n",
       "      <td>0</td>\n",
       "      <td>0</td>\n",
       "      <td>0</td>\n",
       "      <td>0</td>\n",
       "      <td>0</td>\n",
       "      <td>0</td>\n",
       "    </tr>\n",
       "    <tr>\n",
       "      <th>401</th>\n",
       "      <td>上海创蓝文化传播</td>\n",
       "      <td>500-999人</td>\n",
       "      <td>上海 松江区 松江工业区</td>\n",
       "      <td>本科</td>\n",
       "      <td>1-3年</td>\n",
       "      <td>数据分析师</td>\n",
       "      <td>20.0</td>\n",
       "      <td>A轮</td>\n",
       "      <td>1</td>\n",
       "      <td>1</td>\n",
       "      <td>1</td>\n",
       "      <td>0</td>\n",
       "      <td>0</td>\n",
       "      <td>0</td>\n",
       "      <td>0</td>\n",
       "      <td>1</td>\n",
       "      <td>1</td>\n",
       "      <td>0</td>\n",
       "    </tr>\n",
       "    <tr>\n",
       "      <th>260</th>\n",
       "      <td>上海智帛</td>\n",
       "      <td>20-99人</td>\n",
       "      <td>上海 闵行区 漕宝路</td>\n",
       "      <td>大专</td>\n",
       "      <td>1-3年</td>\n",
       "      <td>数据分析</td>\n",
       "      <td>10.0</td>\n",
       "      <td>未融资</td>\n",
       "      <td>1</td>\n",
       "      <td>0</td>\n",
       "      <td>1</td>\n",
       "      <td>0</td>\n",
       "      <td>0</td>\n",
       "      <td>0</td>\n",
       "      <td>0</td>\n",
       "      <td>0</td>\n",
       "      <td>0</td>\n",
       "      <td>0</td>\n",
       "    </tr>\n",
       "  </tbody>\n",
       "</table>\n",
       "</div>"
      ],
      "text/plain": [
       "         公司名称        公司规模            地区 学历要求  工作经验        职位名称  salary   融资情况  \\\n",
       "198  上海克顿文化传媒    100-499人    上海 黄浦区 新天地   本科  3-5年       数据分析师    11.5    已上市   \n",
       "316      今日头条    10000人以上   上海 徐汇区 上海南站   本科  1-3年     广告数据分析师    11.5  D轮及以上   \n",
       "52       壹米滴答    10000人以上     上海 青浦区 徐泾   本科  1-3年   资深BI数据分析师    16.0     C轮   \n",
       "313       拼多多  1000-9999人    上海 长宁区 天山路   本科  经验不限       数据分析师    22.5    已上市   \n",
       "19      太平洋房屋    10000人以上    上海 徐汇区 枫林路   本科  1-3年       数据分析师    12.0    已上市   \n",
       "482        印鹰    100-499人    上海 静安区 汶水路   本科  3-5年      数据分析经理    20.0     B轮   \n",
       "212      复硕正态      20-99人    上海 静安区 大宁路   本科  1-3年     高级数据分析员    10.0  不需要融资   \n",
       "127      云序生物      20-99人     上海 松江区 新桥   大专  1-3年  生信分析师/数据分析     8.0  不需要融资   \n",
       "401  上海创蓝文化传播    500-999人  上海 松江区 松江工业区   本科  1-3年       数据分析师    20.0     A轮   \n",
       "260      上海智帛      20-99人    上海 闵行区 漕宝路   大专  1-3年        数据分析    10.0    未融资   \n",
       "\n",
       "     Sql  Python  Excel  Sas  Spss  Hive  Hadoop  Tableau  Ppt  Spark  \n",
       "198    0       0      0    0     1     0       0        0    1      0  \n",
       "316    1       0      1    1     1     0       0        0    0      0  \n",
       "52     1       0      0    0     0     0       1        0    0      1  \n",
       "313    1       1      0    0     0     1       0        0    0      0  \n",
       "19     1       1      1    0     0     0       0        1    0      0  \n",
       "482    1       0      0    0     0     0       1        0    0      0  \n",
       "212    0       0      0    0     1     0       0        0    1      0  \n",
       "127    0       1      0    0     0     0       0        0    0      0  \n",
       "401    1       1      1    0     0     0       0        1    1      0  \n",
       "260    1       0      1    0     0     0       0        0    0      0  "
      ]
     },
     "execution_count": 451,
     "metadata": {},
     "output_type": "execute_result"
    }
   ],
   "source": [
    "data_test.head(10)"
   ]
  },
  {
   "cell_type": "code",
   "execution_count": 452,
   "metadata": {},
   "outputs": [
    {
     "data": {
      "text/plain": [
       "array([17.01653719, 16.41342787, 21.16768836, 19.22802331, 13.22095168,\n",
       "       22.22075171, 11.02715534,  7.95300838, 13.12913168,  4.30171607])"
      ]
     },
     "execution_count": 452,
     "metadata": {},
     "output_type": "execute_result"
    }
   ],
   "source": [
    "y_test = lin_reg.predict(data_analysis_test)\n",
    "y_test[:10]"
   ]
  },
  {
   "cell_type": "code",
   "execution_count": 453,
   "metadata": {},
   "outputs": [
    {
     "data": {
      "text/plain": [
       "array([11.5, 11.5, 16. , 22.5, 12. , 20. , 10. ,  8. , 20. , 10. ])"
      ]
     },
     "execution_count": 453,
     "metadata": {},
     "output_type": "execute_result"
    }
   ],
   "source": [
    "test_labels[:10]"
   ]
  },
  {
   "cell_type": "code",
   "execution_count": 454,
   "metadata": {},
   "outputs": [
    {
     "data": {
      "text/plain": [
       "6.7698143548675915"
      ]
     },
     "execution_count": 454,
     "metadata": {},
     "output_type": "execute_result"
    }
   ],
   "source": [
    "lin_mse = mean_squared_error(test_labels, y_test)\n",
    "lin_rmse = np.sqrt(lin_mse)\n",
    "lin_rmse"
   ]
  },
  {
   "cell_type": "markdown",
   "metadata": {},
   "source": [
    "- 测试集上误差约为**6.77**"
   ]
  },
  {
   "cell_type": "markdown",
   "metadata": {},
   "source": [
    "### 交叉验证"
   ]
  },
  {
   "cell_type": "code",
   "execution_count": 455,
   "metadata": {},
   "outputs": [],
   "source": [
    "from sklearn.model_selection import cross_val_score\n",
    "\n",
    "scores = cross_val_score(lin_reg, data_analysis_prepared, data_analysis_labels,\n",
    "                         scoring=\"neg_mean_squared_error\", cv=10)\n",
    "lin_rmse_scores = np.sqrt(-scores)"
   ]
  },
  {
   "cell_type": "code",
   "execution_count": 456,
   "metadata": {},
   "outputs": [
    {
     "name": "stdout",
     "output_type": "stream",
     "text": [
      "Scores: [5.81120933 5.92292919 6.50970607 6.24610706 5.18158564 6.27624993\n",
      " 7.37315509 6.07787995 5.67585695 4.86847943]\n",
      "Mean: 5.994315863710689\n",
      "Standard deviation: 0.6621760708217165\n"
     ]
    }
   ],
   "source": [
    "display_scores(lin_rmse_scores)"
   ]
  },
  {
   "cell_type": "markdown",
   "metadata": {},
   "source": [
    "---"
   ]
  },
  {
   "cell_type": "markdown",
   "metadata": {},
   "source": [
    "## D-Tree"
   ]
  },
  {
   "cell_type": "markdown",
   "metadata": {},
   "source": [
    "### 建模训练"
   ]
  },
  {
   "cell_type": "code",
   "execution_count": 457,
   "metadata": {},
   "outputs": [
    {
     "data": {
      "text/plain": [
       "DecisionTreeRegressor(criterion='mse', max_depth=None, max_features=None,\n",
       "           max_leaf_nodes=None, min_impurity_decrease=0.0,\n",
       "           min_impurity_split=None, min_samples_leaf=1,\n",
       "           min_samples_split=2, min_weight_fraction_leaf=0.0,\n",
       "           presort=False, random_state=52, splitter='best')"
      ]
     },
     "execution_count": 457,
     "metadata": {},
     "output_type": "execute_result"
    }
   ],
   "source": [
    "from sklearn.tree import DecisionTreeRegressor\n",
    "\n",
    "tree_reg = DecisionTreeRegressor(random_state=52)\n",
    "tree_reg.fit(data_analysis_prepared, data_analysis_labels)"
   ]
  },
  {
   "cell_type": "code",
   "execution_count": 458,
   "metadata": {},
   "outputs": [],
   "source": [
    "y_pred_tree = tree_reg.predict(data_analysis_prepared)"
   ]
  },
  {
   "cell_type": "code",
   "execution_count": 459,
   "metadata": {},
   "outputs": [
    {
     "data": {
      "text/plain": [
       "1.4079709678742711"
      ]
     },
     "execution_count": 459,
     "metadata": {},
     "output_type": "execute_result"
    }
   ],
   "source": [
    "from sklearn.metrics import mean_squared_error\n",
    "\n",
    "tree_mse = mean_squared_error(data_analysis_labels, y_pred_tree)\n",
    "tree_rmse = np.sqrt(tree_mse)\n",
    "tree_rmse"
   ]
  },
  {
   "cell_type": "markdown",
   "metadata": {},
   "source": [
    "### 测试集"
   ]
  },
  {
   "cell_type": "code",
   "execution_count": 460,
   "metadata": {},
   "outputs": [
    {
     "data": {
      "text/plain": [
       "array([15. , 12.5, 10. , 27. , 30. , 14.5,  8. ,  7. , 12.5,  7. ])"
      ]
     },
     "execution_count": 460,
     "metadata": {},
     "output_type": "execute_result"
    }
   ],
   "source": [
    "y_test = tree_reg.predict(data_analysis_test)\n",
    "y_test[:10]"
   ]
  },
  {
   "cell_type": "code",
   "execution_count": 461,
   "metadata": {},
   "outputs": [
    {
     "data": {
      "text/plain": [
       "array([11.5, 11.5, 16. , 22.5, 12. , 20. , 10. ,  8. , 20. , 10. ])"
      ]
     },
     "execution_count": 461,
     "metadata": {},
     "output_type": "execute_result"
    }
   ],
   "source": [
    "test_labels[:10]"
   ]
  },
  {
   "cell_type": "code",
   "execution_count": 462,
   "metadata": {
    "scrolled": true
   },
   "outputs": [
    {
     "data": {
      "text/plain": [
       "8.252411446722123"
      ]
     },
     "execution_count": 462,
     "metadata": {},
     "output_type": "execute_result"
    }
   ],
   "source": [
    "tree_mse = mean_squared_error(test_labels, y_test)\n",
    "tree_rmse = np.sqrt(tree_mse)\n",
    "tree_rmse"
   ]
  },
  {
   "cell_type": "markdown",
   "metadata": {},
   "source": [
    "- 测试集上误差约为**8.25**"
   ]
  },
  {
   "cell_type": "markdown",
   "metadata": {},
   "source": [
    "---"
   ]
  },
  {
   "cell_type": "markdown",
   "metadata": {},
   "source": [
    "## Random Forest"
   ]
  },
  {
   "cell_type": "markdown",
   "metadata": {},
   "source": [
    "### 建模训练"
   ]
  },
  {
   "cell_type": "code",
   "execution_count": 463,
   "metadata": {},
   "outputs": [
    {
     "data": {
      "text/plain": [
       "RandomForestRegressor(bootstrap=True, criterion='mse', max_depth=None,\n",
       "           max_features='auto', max_leaf_nodes=None,\n",
       "           min_impurity_decrease=0.0, min_impurity_split=None,\n",
       "           min_samples_leaf=1, min_samples_split=2,\n",
       "           min_weight_fraction_leaf=0.0, n_estimators=10, n_jobs=None,\n",
       "           oob_score=False, random_state=52, verbose=0, warm_start=False)"
      ]
     },
     "execution_count": 463,
     "metadata": {},
     "output_type": "execute_result"
    }
   ],
   "source": [
    "from sklearn.ensemble import RandomForestRegressor\n",
    "\n",
    "forest_reg = RandomForestRegressor(random_state=52)\n",
    "forest_reg.fit(data_analysis_prepared, data_analysis_labels)"
   ]
  },
  {
   "cell_type": "code",
   "execution_count": 464,
   "metadata": {},
   "outputs": [
    {
     "data": {
      "text/plain": [
       "2.714777885552381"
      ]
     },
     "execution_count": 464,
     "metadata": {},
     "output_type": "execute_result"
    }
   ],
   "source": [
    "y_pred_rf = forest_reg.predict(data_analysis_prepared)\n",
    "forest_mse = mean_squared_error(data_analysis_labels, y_pred_rf)\n",
    "forest_rmse = np.sqrt(forest_mse)\n",
    "forest_rmse"
   ]
  },
  {
   "cell_type": "markdown",
   "metadata": {},
   "source": [
    "### 测试集"
   ]
  },
  {
   "cell_type": "code",
   "execution_count": 465,
   "metadata": {},
   "outputs": [
    {
     "data": {
      "text/html": [
       "<div>\n",
       "<style scoped>\n",
       "    .dataframe tbody tr th:only-of-type {\n",
       "        vertical-align: middle;\n",
       "    }\n",
       "\n",
       "    .dataframe tbody tr th {\n",
       "        vertical-align: top;\n",
       "    }\n",
       "\n",
       "    .dataframe thead th {\n",
       "        text-align: right;\n",
       "    }\n",
       "</style>\n",
       "<table border=\"1\" class=\"dataframe\">\n",
       "  <thead>\n",
       "    <tr style=\"text-align: right;\">\n",
       "      <th></th>\n",
       "      <th>公司名称</th>\n",
       "      <th>公司规模</th>\n",
       "      <th>地区</th>\n",
       "      <th>学历要求</th>\n",
       "      <th>工作经验</th>\n",
       "      <th>职位名称</th>\n",
       "      <th>salary</th>\n",
       "      <th>融资情况</th>\n",
       "      <th>Sql</th>\n",
       "      <th>Python</th>\n",
       "      <th>Excel</th>\n",
       "      <th>Sas</th>\n",
       "      <th>Spss</th>\n",
       "      <th>Hive</th>\n",
       "      <th>Hadoop</th>\n",
       "      <th>Tableau</th>\n",
       "      <th>Ppt</th>\n",
       "      <th>Spark</th>\n",
       "    </tr>\n",
       "  </thead>\n",
       "  <tbody>\n",
       "    <tr>\n",
       "      <th>198</th>\n",
       "      <td>上海克顿文化传媒</td>\n",
       "      <td>100-499人</td>\n",
       "      <td>上海 黄浦区 新天地</td>\n",
       "      <td>本科</td>\n",
       "      <td>3-5年</td>\n",
       "      <td>数据分析师</td>\n",
       "      <td>11.5</td>\n",
       "      <td>已上市</td>\n",
       "      <td>0</td>\n",
       "      <td>0</td>\n",
       "      <td>0</td>\n",
       "      <td>0</td>\n",
       "      <td>1</td>\n",
       "      <td>0</td>\n",
       "      <td>0</td>\n",
       "      <td>0</td>\n",
       "      <td>1</td>\n",
       "      <td>0</td>\n",
       "    </tr>\n",
       "    <tr>\n",
       "      <th>316</th>\n",
       "      <td>今日头条</td>\n",
       "      <td>10000人以上</td>\n",
       "      <td>上海 徐汇区 上海南站</td>\n",
       "      <td>本科</td>\n",
       "      <td>1-3年</td>\n",
       "      <td>广告数据分析师</td>\n",
       "      <td>11.5</td>\n",
       "      <td>D轮及以上</td>\n",
       "      <td>1</td>\n",
       "      <td>0</td>\n",
       "      <td>1</td>\n",
       "      <td>1</td>\n",
       "      <td>1</td>\n",
       "      <td>0</td>\n",
       "      <td>0</td>\n",
       "      <td>0</td>\n",
       "      <td>0</td>\n",
       "      <td>0</td>\n",
       "    </tr>\n",
       "    <tr>\n",
       "      <th>52</th>\n",
       "      <td>壹米滴答</td>\n",
       "      <td>10000人以上</td>\n",
       "      <td>上海 青浦区 徐泾</td>\n",
       "      <td>本科</td>\n",
       "      <td>1-3年</td>\n",
       "      <td>资深BI数据分析师</td>\n",
       "      <td>16.0</td>\n",
       "      <td>C轮</td>\n",
       "      <td>1</td>\n",
       "      <td>0</td>\n",
       "      <td>0</td>\n",
       "      <td>0</td>\n",
       "      <td>0</td>\n",
       "      <td>0</td>\n",
       "      <td>1</td>\n",
       "      <td>0</td>\n",
       "      <td>0</td>\n",
       "      <td>1</td>\n",
       "    </tr>\n",
       "    <tr>\n",
       "      <th>313</th>\n",
       "      <td>拼多多</td>\n",
       "      <td>1000-9999人</td>\n",
       "      <td>上海 长宁区 天山路</td>\n",
       "      <td>本科</td>\n",
       "      <td>经验不限</td>\n",
       "      <td>数据分析师</td>\n",
       "      <td>22.5</td>\n",
       "      <td>已上市</td>\n",
       "      <td>1</td>\n",
       "      <td>1</td>\n",
       "      <td>0</td>\n",
       "      <td>0</td>\n",
       "      <td>0</td>\n",
       "      <td>1</td>\n",
       "      <td>0</td>\n",
       "      <td>0</td>\n",
       "      <td>0</td>\n",
       "      <td>0</td>\n",
       "    </tr>\n",
       "    <tr>\n",
       "      <th>19</th>\n",
       "      <td>太平洋房屋</td>\n",
       "      <td>10000人以上</td>\n",
       "      <td>上海 徐汇区 枫林路</td>\n",
       "      <td>本科</td>\n",
       "      <td>1-3年</td>\n",
       "      <td>数据分析师</td>\n",
       "      <td>12.0</td>\n",
       "      <td>已上市</td>\n",
       "      <td>1</td>\n",
       "      <td>1</td>\n",
       "      <td>1</td>\n",
       "      <td>0</td>\n",
       "      <td>0</td>\n",
       "      <td>0</td>\n",
       "      <td>0</td>\n",
       "      <td>1</td>\n",
       "      <td>0</td>\n",
       "      <td>0</td>\n",
       "    </tr>\n",
       "    <tr>\n",
       "      <th>482</th>\n",
       "      <td>印鹰</td>\n",
       "      <td>100-499人</td>\n",
       "      <td>上海 静安区 汶水路</td>\n",
       "      <td>本科</td>\n",
       "      <td>3-5年</td>\n",
       "      <td>数据分析经理</td>\n",
       "      <td>20.0</td>\n",
       "      <td>B轮</td>\n",
       "      <td>1</td>\n",
       "      <td>0</td>\n",
       "      <td>0</td>\n",
       "      <td>0</td>\n",
       "      <td>0</td>\n",
       "      <td>0</td>\n",
       "      <td>1</td>\n",
       "      <td>0</td>\n",
       "      <td>0</td>\n",
       "      <td>0</td>\n",
       "    </tr>\n",
       "    <tr>\n",
       "      <th>212</th>\n",
       "      <td>复硕正态</td>\n",
       "      <td>20-99人</td>\n",
       "      <td>上海 静安区 大宁路</td>\n",
       "      <td>本科</td>\n",
       "      <td>1-3年</td>\n",
       "      <td>高级数据分析员</td>\n",
       "      <td>10.0</td>\n",
       "      <td>不需要融资</td>\n",
       "      <td>0</td>\n",
       "      <td>0</td>\n",
       "      <td>0</td>\n",
       "      <td>0</td>\n",
       "      <td>1</td>\n",
       "      <td>0</td>\n",
       "      <td>0</td>\n",
       "      <td>0</td>\n",
       "      <td>1</td>\n",
       "      <td>0</td>\n",
       "    </tr>\n",
       "    <tr>\n",
       "      <th>127</th>\n",
       "      <td>云序生物</td>\n",
       "      <td>20-99人</td>\n",
       "      <td>上海 松江区 新桥</td>\n",
       "      <td>大专</td>\n",
       "      <td>1-3年</td>\n",
       "      <td>生信分析师/数据分析</td>\n",
       "      <td>8.0</td>\n",
       "      <td>不需要融资</td>\n",
       "      <td>0</td>\n",
       "      <td>1</td>\n",
       "      <td>0</td>\n",
       "      <td>0</td>\n",
       "      <td>0</td>\n",
       "      <td>0</td>\n",
       "      <td>0</td>\n",
       "      <td>0</td>\n",
       "      <td>0</td>\n",
       "      <td>0</td>\n",
       "    </tr>\n",
       "    <tr>\n",
       "      <th>401</th>\n",
       "      <td>上海创蓝文化传播</td>\n",
       "      <td>500-999人</td>\n",
       "      <td>上海 松江区 松江工业区</td>\n",
       "      <td>本科</td>\n",
       "      <td>1-3年</td>\n",
       "      <td>数据分析师</td>\n",
       "      <td>20.0</td>\n",
       "      <td>A轮</td>\n",
       "      <td>1</td>\n",
       "      <td>1</td>\n",
       "      <td>1</td>\n",
       "      <td>0</td>\n",
       "      <td>0</td>\n",
       "      <td>0</td>\n",
       "      <td>0</td>\n",
       "      <td>1</td>\n",
       "      <td>1</td>\n",
       "      <td>0</td>\n",
       "    </tr>\n",
       "    <tr>\n",
       "      <th>260</th>\n",
       "      <td>上海智帛</td>\n",
       "      <td>20-99人</td>\n",
       "      <td>上海 闵行区 漕宝路</td>\n",
       "      <td>大专</td>\n",
       "      <td>1-3年</td>\n",
       "      <td>数据分析</td>\n",
       "      <td>10.0</td>\n",
       "      <td>未融资</td>\n",
       "      <td>1</td>\n",
       "      <td>0</td>\n",
       "      <td>1</td>\n",
       "      <td>0</td>\n",
       "      <td>0</td>\n",
       "      <td>0</td>\n",
       "      <td>0</td>\n",
       "      <td>0</td>\n",
       "      <td>0</td>\n",
       "      <td>0</td>\n",
       "    </tr>\n",
       "  </tbody>\n",
       "</table>\n",
       "</div>"
      ],
      "text/plain": [
       "         公司名称        公司规模            地区 学历要求  工作经验        职位名称  salary   融资情况  \\\n",
       "198  上海克顿文化传媒    100-499人    上海 黄浦区 新天地   本科  3-5年       数据分析师    11.5    已上市   \n",
       "316      今日头条    10000人以上   上海 徐汇区 上海南站   本科  1-3年     广告数据分析师    11.5  D轮及以上   \n",
       "52       壹米滴答    10000人以上     上海 青浦区 徐泾   本科  1-3年   资深BI数据分析师    16.0     C轮   \n",
       "313       拼多多  1000-9999人    上海 长宁区 天山路   本科  经验不限       数据分析师    22.5    已上市   \n",
       "19      太平洋房屋    10000人以上    上海 徐汇区 枫林路   本科  1-3年       数据分析师    12.0    已上市   \n",
       "482        印鹰    100-499人    上海 静安区 汶水路   本科  3-5年      数据分析经理    20.0     B轮   \n",
       "212      复硕正态      20-99人    上海 静安区 大宁路   本科  1-3年     高级数据分析员    10.0  不需要融资   \n",
       "127      云序生物      20-99人     上海 松江区 新桥   大专  1-3年  生信分析师/数据分析     8.0  不需要融资   \n",
       "401  上海创蓝文化传播    500-999人  上海 松江区 松江工业区   本科  1-3年       数据分析师    20.0     A轮   \n",
       "260      上海智帛      20-99人    上海 闵行区 漕宝路   大专  1-3年        数据分析    10.0    未融资   \n",
       "\n",
       "     Sql  Python  Excel  Sas  Spss  Hive  Hadoop  Tableau  Ppt  Spark  \n",
       "198    0       0      0    0     1     0       0        0    1      0  \n",
       "316    1       0      1    1     1     0       0        0    0      0  \n",
       "52     1       0      0    0     0     0       1        0    0      1  \n",
       "313    1       1      0    0     0     1       0        0    0      0  \n",
       "19     1       1      1    0     0     0       0        1    0      0  \n",
       "482    1       0      0    0     0     0       1        0    0      0  \n",
       "212    0       0      0    0     1     0       0        0    1      0  \n",
       "127    0       1      0    0     0     0       0        0    0      0  \n",
       "401    1       1      1    0     0     0       0        1    1      0  \n",
       "260    1       0      1    0     0     0       0        0    0      0  "
      ]
     },
     "execution_count": 465,
     "metadata": {},
     "output_type": "execute_result"
    }
   ],
   "source": [
    "data_test[:10]"
   ]
  },
  {
   "cell_type": "code",
   "execution_count": 466,
   "metadata": {},
   "outputs": [
    {
     "data": {
      "text/plain": [
       "array([20.08333333, 10.35      , 18.025     , 26.25      , 19.58333333,\n",
       "       20.35      ,  9.11666667, 10.825     , 12.55428571,  9.1       ])"
      ]
     },
     "execution_count": 466,
     "metadata": {},
     "output_type": "execute_result"
    }
   ],
   "source": [
    "y_test = forest_reg.predict(data_analysis_test)\n",
    "y_test[:10]"
   ]
  },
  {
   "cell_type": "code",
   "execution_count": 467,
   "metadata": {},
   "outputs": [
    {
     "data": {
      "text/plain": [
       "array([11.5, 11.5, 16. , 22.5, 12. , 20. , 10. ,  8. , 20. , 10. ])"
      ]
     },
     "execution_count": 467,
     "metadata": {},
     "output_type": "execute_result"
    }
   ],
   "source": [
    "test_labels[:10]"
   ]
  },
  {
   "cell_type": "code",
   "execution_count": 468,
   "metadata": {},
   "outputs": [
    {
     "data": {
      "text/plain": [
       "7.087180783205348"
      ]
     },
     "execution_count": 468,
     "metadata": {},
     "output_type": "execute_result"
    }
   ],
   "source": [
    "forest_mse = mean_squared_error(test_labels, y_test)\n",
    "forest_rmse = np.sqrt(forest_mse)\n",
    "forest_rmse"
   ]
  },
  {
   "cell_type": "markdown",
   "metadata": {},
   "source": [
    "- 测试集上误差约为**7.09**"
   ]
  },
  {
   "cell_type": "markdown",
   "metadata": {},
   "source": [
    "### 交叉验证"
   ]
  },
  {
   "cell_type": "code",
   "execution_count": 469,
   "metadata": {},
   "outputs": [],
   "source": [
    "from sklearn.model_selection import cross_val_score\n",
    "\n",
    "scores = cross_val_score(forest_reg, data_analysis_prepared, data_analysis_labels,\n",
    "                         scoring=\"neg_mean_squared_error\", cv=10)\n",
    "forest_rmse_scores = np.sqrt(-scores)"
   ]
  },
  {
   "cell_type": "code",
   "execution_count": 470,
   "metadata": {},
   "outputs": [
    {
     "name": "stdout",
     "output_type": "stream",
     "text": [
      "Scores: [5.92160593 6.47537707 8.01906699 5.64303733 6.39749406 7.22392532\n",
      " 6.18275771 6.05244757 6.53447138 4.86251585]\n",
      "Mean: 6.331269920627992\n",
      "Standard deviation: 0.8130474122018511\n"
     ]
    }
   ],
   "source": [
    "def display_scores(scores):\n",
    "    print(\"Scores:\", scores)\n",
    "    print(\"Mean:\", scores.mean())\n",
    "    print(\"Standard deviation:\", scores.std())\n",
    "\n",
    "display_scores(forest_rmse_scores)"
   ]
  },
  {
   "cell_type": "markdown",
   "metadata": {},
   "source": [
    "---"
   ]
  },
  {
   "cell_type": "markdown",
   "metadata": {},
   "source": [
    "# 网格搜索调参"
   ]
  },
  {
   "cell_type": "code",
   "execution_count": 471,
   "metadata": {},
   "outputs": [
    {
     "data": {
      "text/plain": [
       "GridSearchCV(cv=5, error_score='raise-deprecating',\n",
       "       estimator=RandomForestRegressor(bootstrap=True, criterion='mse', max_depth=None,\n",
       "           max_features='auto', max_leaf_nodes=None,\n",
       "           min_impurity_decrease=0.0, min_impurity_split=None,\n",
       "           min_samples_leaf=1, min_samples_split=2,\n",
       "           min_weight_fraction_leaf=0.0, n_estimators='warn', n_jobs=None,\n",
       "           oob_score=False, random_state=52, verbose=0, warm_start=False),\n",
       "       fit_params=None, iid='warn', n_jobs=None,\n",
       "       param_grid=[{'n_estimators': [3, 10, 30], 'max_features': [2, 4, 6, 8]}, {'bootstrap': [False], 'n_estimators': [3, 10], 'max_features': [2, 3, 4]}],\n",
       "       pre_dispatch='2*n_jobs', refit=True, return_train_score=True,\n",
       "       scoring='neg_mean_squared_error', verbose=0)"
      ]
     },
     "execution_count": 471,
     "metadata": {},
     "output_type": "execute_result"
    }
   ],
   "source": [
    "from sklearn.model_selection import GridSearchCV\n",
    "\n",
    "param_grid = [\n",
    "    # try 12 (3×4) combinations of hyperparameters\n",
    "    {'n_estimators': [3, 10, 30], 'max_features': [2, 4, 6, 8]},\n",
    "    # then try 6 (2×3) combinations with bootstrap set as False\n",
    "    {'bootstrap': [False], 'n_estimators': [3, 10], 'max_features': [2, 3, 4]},\n",
    "  ]\n",
    "\n",
    "forest_reg = RandomForestRegressor(random_state=52)\n",
    "# train across 5 folds, that's a total of (12+6)*5=90 rounds of training \n",
    "grid_search = GridSearchCV(forest_reg, param_grid, cv=5,\n",
    "                           scoring='neg_mean_squared_error', return_train_score=True)\n",
    "grid_search.fit(data_analysis_prepared, data_analysis_labels)"
   ]
  },
  {
   "cell_type": "code",
   "execution_count": 472,
   "metadata": {},
   "outputs": [
    {
     "name": "stdout",
     "output_type": "stream",
     "text": [
      "7.29061793698431 {'max_features': 2, 'n_estimators': 3}\n",
      "6.413781857864982 {'max_features': 2, 'n_estimators': 10}\n",
      "6.092544533188321 {'max_features': 2, 'n_estimators': 30}\n",
      "7.107886960097701 {'max_features': 4, 'n_estimators': 3}\n",
      "6.315256370330592 {'max_features': 4, 'n_estimators': 10}\n",
      "5.976022358347516 {'max_features': 4, 'n_estimators': 30}\n",
      "7.001163746738424 {'max_features': 6, 'n_estimators': 3}\n",
      "6.1921055299084635 {'max_features': 6, 'n_estimators': 10}\n",
      "5.996739844433075 {'max_features': 6, 'n_estimators': 30}\n",
      "7.088902371406774 {'max_features': 8, 'n_estimators': 3}\n",
      "6.292396346910386 {'max_features': 8, 'n_estimators': 10}\n",
      "5.980558606686522 {'max_features': 8, 'n_estimators': 30}\n",
      "7.0825937380292405 {'bootstrap': False, 'max_features': 2, 'n_estimators': 3}\n",
      "6.412140716903331 {'bootstrap': False, 'max_features': 2, 'n_estimators': 10}\n",
      "7.062864506385558 {'bootstrap': False, 'max_features': 3, 'n_estimators': 3}\n",
      "6.337407579436449 {'bootstrap': False, 'max_features': 3, 'n_estimators': 10}\n",
      "6.766095704089036 {'bootstrap': False, 'max_features': 4, 'n_estimators': 3}\n",
      "6.251001206038802 {'bootstrap': False, 'max_features': 4, 'n_estimators': 10}\n"
     ]
    }
   ],
   "source": [
    "cvres = grid_search.cv_results_\n",
    "for mean_score, params in zip(cvres[\"mean_test_score\"], cvres[\"params\"]):\n",
    "    print(np.sqrt(-mean_score), params)"
   ]
  },
  {
   "cell_type": "code",
   "execution_count": 473,
   "metadata": {},
   "outputs": [
    {
     "data": {
      "text/plain": [
       "{'max_features': 4, 'n_estimators': 30}"
      ]
     },
     "execution_count": 473,
     "metadata": {},
     "output_type": "execute_result"
    }
   ],
   "source": [
    "grid_search.best_params_"
   ]
  },
  {
   "cell_type": "markdown",
   "metadata": {},
   "source": [
    "## 变量重要性"
   ]
  },
  {
   "cell_type": "code",
   "execution_count": 474,
   "metadata": {},
   "outputs": [],
   "source": [
    "feature_importances = grid_search.best_estimator_.feature_importances_\n",
    "#feature_importances"
   ]
  },
  {
   "cell_type": "code",
   "execution_count": 475,
   "metadata": {},
   "outputs": [],
   "source": [
    "num_attribs = list(data_analysis_num)\n",
    "cat_attribs = ['公司规模','学历要求','工作经验','融资情况']"
   ]
  },
  {
   "cell_type": "code",
   "execution_count": 476,
   "metadata": {},
   "outputs": [
    {
     "data": {
      "text/plain": [
       "[(0.05883012920907406, 'Sql'),\n",
       " (0.05739271707726927, 'Hadoop'),\n",
       " (0.052855819385887605, 'Python'),\n",
       " (0.05042672750583558, '工作经验'),\n",
       " (0.04841490914313372, 'Hive'),\n",
       " (0.03169130633549138, 'Excel'),\n",
       " (0.0301026272691416, 'Spark'),\n",
       " (0.027897066519544437, 'Sas'),\n",
       " (0.02382836465248971, 'Spss'),\n",
       " (0.023060368955297835, '学历要求'),\n",
       " (0.022374373956317948, 'Tableau'),\n",
       " (0.01650026584689836, '融资情况'),\n",
       " (0.013561201776627235, 'Ppt'),\n",
       " (0.004150442668926646, '公司规模')]"
      ]
     },
     "execution_count": 476,
     "metadata": {},
     "output_type": "execute_result"
    }
   ],
   "source": [
    "# 变量重要性排序\n",
    "attributes = num_attribs + cat_attribs\n",
    "sorted(zip(feature_importances, attributes), reverse=True)"
   ]
  },
  {
   "cell_type": "markdown",
   "metadata": {},
   "source": [
    "- **公司规模**对薪资的影响很小。"
   ]
  },
  {
   "cell_type": "markdown",
   "metadata": {},
   "source": [
    "---"
   ]
  },
  {
   "cell_type": "markdown",
   "metadata": {},
   "source": [
    "# 最终模型"
   ]
  },
  {
   "cell_type": "code",
   "execution_count": 477,
   "metadata": {},
   "outputs": [],
   "source": [
    "final_model = grid_search.best_estimator_\n",
    "\n",
    "final_predictions = final_model.predict(data_analysis_test)\n",
    "\n",
    "final_mse = mean_squared_error(test_labels, final_predictions)\n",
    "final_rmse = np.sqrt(final_mse)"
   ]
  },
  {
   "cell_type": "code",
   "execution_count": 478,
   "metadata": {},
   "outputs": [
    {
     "data": {
      "text/plain": [
       "6.867133419234717"
      ]
     },
     "execution_count": 478,
     "metadata": {},
     "output_type": "execute_result"
    }
   ],
   "source": [
    "final_rmse"
   ]
  },
  {
   "cell_type": "markdown",
   "metadata": {},
   "source": [
    "- 误差为6.87"
   ]
  },
  {
   "cell_type": "markdown",
   "metadata": {},
   "source": [
    "---"
   ]
  },
  {
   "cell_type": "markdown",
   "metadata": {},
   "source": [
    "# 薪资预测"
   ]
  },
  {
   "cell_type": "code",
   "execution_count": 479,
   "metadata": {},
   "outputs": [],
   "source": [
    "salary_test_series = Series(final_predictions,index=data_test.index)"
   ]
  },
  {
   "cell_type": "code",
   "execution_count": 485,
   "metadata": {},
   "outputs": [],
   "source": [
    "data_test_prediction = data_test.copy()\n",
    "data_test_prediction.insert(7,'prediction',salary_test_series)"
   ]
  },
  {
   "cell_type": "code",
   "execution_count": 488,
   "metadata": {
    "scrolled": false
   },
   "outputs": [
    {
     "data": {
      "text/html": [
       "<div>\n",
       "<style scoped>\n",
       "    .dataframe tbody tr th:only-of-type {\n",
       "        vertical-align: middle;\n",
       "    }\n",
       "\n",
       "    .dataframe tbody tr th {\n",
       "        vertical-align: top;\n",
       "    }\n",
       "\n",
       "    .dataframe thead th {\n",
       "        text-align: right;\n",
       "    }\n",
       "</style>\n",
       "<table border=\"1\" class=\"dataframe\">\n",
       "  <thead>\n",
       "    <tr style=\"text-align: right;\">\n",
       "      <th></th>\n",
       "      <th>公司名称</th>\n",
       "      <th>公司规模</th>\n",
       "      <th>地区</th>\n",
       "      <th>学历要求</th>\n",
       "      <th>工作经验</th>\n",
       "      <th>职位名称</th>\n",
       "      <th>salary</th>\n",
       "      <th>prediction</th>\n",
       "      <th>融资情况</th>\n",
       "      <th>Sql</th>\n",
       "      <th>Python</th>\n",
       "      <th>Excel</th>\n",
       "      <th>Sas</th>\n",
       "      <th>Spss</th>\n",
       "      <th>Hive</th>\n",
       "      <th>Hadoop</th>\n",
       "      <th>Tableau</th>\n",
       "      <th>Ppt</th>\n",
       "      <th>Spark</th>\n",
       "    </tr>\n",
       "  </thead>\n",
       "  <tbody>\n",
       "    <tr>\n",
       "      <th>8</th>\n",
       "      <td>辰德网络科技</td>\n",
       "      <td>100-499人</td>\n",
       "      <td>上海</td>\n",
       "      <td>本科</td>\n",
       "      <td>1-3年</td>\n",
       "      <td>数据分析</td>\n",
       "      <td>7.0</td>\n",
       "      <td>8.916667</td>\n",
       "      <td>未融资</td>\n",
       "      <td>1</td>\n",
       "      <td>0</td>\n",
       "      <td>0</td>\n",
       "      <td>0</td>\n",
       "      <td>0</td>\n",
       "      <td>0</td>\n",
       "      <td>0</td>\n",
       "      <td>0</td>\n",
       "      <td>0</td>\n",
       "      <td>0</td>\n",
       "    </tr>\n",
       "    <tr>\n",
       "      <th>224</th>\n",
       "      <td>安心记加班</td>\n",
       "      <td>100-499人</td>\n",
       "      <td>上海 徐汇区 交大</td>\n",
       "      <td>本科</td>\n",
       "      <td>3-5年</td>\n",
       "      <td>高级数据分析师</td>\n",
       "      <td>22.5</td>\n",
       "      <td>17.355556</td>\n",
       "      <td>B轮</td>\n",
       "      <td>1</td>\n",
       "      <td>1</td>\n",
       "      <td>1</td>\n",
       "      <td>0</td>\n",
       "      <td>0</td>\n",
       "      <td>1</td>\n",
       "      <td>1</td>\n",
       "      <td>0</td>\n",
       "      <td>0</td>\n",
       "      <td>1</td>\n",
       "    </tr>\n",
       "    <tr>\n",
       "      <th>490</th>\n",
       "      <td>北京海金格医药科技</td>\n",
       "      <td>100-499人</td>\n",
       "      <td>上海 静安区 宜川路</td>\n",
       "      <td>本科</td>\n",
       "      <td>1年以内</td>\n",
       "      <td>临床数据分析</td>\n",
       "      <td>10.0</td>\n",
       "      <td>9.800000</td>\n",
       "      <td>已上市</td>\n",
       "      <td>0</td>\n",
       "      <td>0</td>\n",
       "      <td>0</td>\n",
       "      <td>1</td>\n",
       "      <td>0</td>\n",
       "      <td>0</td>\n",
       "      <td>0</td>\n",
       "      <td>0</td>\n",
       "      <td>0</td>\n",
       "      <td>0</td>\n",
       "    </tr>\n",
       "    <tr>\n",
       "      <th>230</th>\n",
       "      <td>任意门科技</td>\n",
       "      <td>100-499人</td>\n",
       "      <td>上海 浦东新区 花木</td>\n",
       "      <td>本科</td>\n",
       "      <td>1-3年</td>\n",
       "      <td>数据分析师</td>\n",
       "      <td>22.5</td>\n",
       "      <td>18.438889</td>\n",
       "      <td>C轮</td>\n",
       "      <td>1</td>\n",
       "      <td>1</td>\n",
       "      <td>0</td>\n",
       "      <td>0</td>\n",
       "      <td>0</td>\n",
       "      <td>1</td>\n",
       "      <td>0</td>\n",
       "      <td>1</td>\n",
       "      <td>0</td>\n",
       "      <td>1</td>\n",
       "    </tr>\n",
       "    <tr>\n",
       "      <th>299</th>\n",
       "      <td>天壤智能</td>\n",
       "      <td>100-499人</td>\n",
       "      <td>上海 徐汇区 龙华</td>\n",
       "      <td>本科</td>\n",
       "      <td>3-5年</td>\n",
       "      <td>数据分析师</td>\n",
       "      <td>32.5</td>\n",
       "      <td>18.216667</td>\n",
       "      <td>A轮</td>\n",
       "      <td>1</td>\n",
       "      <td>1</td>\n",
       "      <td>1</td>\n",
       "      <td>0</td>\n",
       "      <td>0</td>\n",
       "      <td>1</td>\n",
       "      <td>1</td>\n",
       "      <td>1</td>\n",
       "      <td>0</td>\n",
       "      <td>0</td>\n",
       "    </tr>\n",
       "    <tr>\n",
       "      <th>329</th>\n",
       "      <td>横援投资</td>\n",
       "      <td>20-99人</td>\n",
       "      <td>上海 松江区 九亭</td>\n",
       "      <td>本科</td>\n",
       "      <td>3-5年</td>\n",
       "      <td>数据分析师</td>\n",
       "      <td>11.5</td>\n",
       "      <td>12.033333</td>\n",
       "      <td>未融资</td>\n",
       "      <td>0</td>\n",
       "      <td>0</td>\n",
       "      <td>0</td>\n",
       "      <td>0</td>\n",
       "      <td>0</td>\n",
       "      <td>0</td>\n",
       "      <td>0</td>\n",
       "      <td>0</td>\n",
       "      <td>0</td>\n",
       "      <td>0</td>\n",
       "    </tr>\n",
       "    <tr>\n",
       "      <th>351</th>\n",
       "      <td>雅智捷</td>\n",
       "      <td>20-99人</td>\n",
       "      <td>上海 静安区 天目西路</td>\n",
       "      <td>本科</td>\n",
       "      <td>3-5年</td>\n",
       "      <td>高级咨询顾问 - 数据分析</td>\n",
       "      <td>15.0</td>\n",
       "      <td>18.466667</td>\n",
       "      <td>20-99人</td>\n",
       "      <td>1</td>\n",
       "      <td>0</td>\n",
       "      <td>0</td>\n",
       "      <td>1</td>\n",
       "      <td>0</td>\n",
       "      <td>0</td>\n",
       "      <td>0</td>\n",
       "      <td>0</td>\n",
       "      <td>0</td>\n",
       "      <td>0</td>\n",
       "    </tr>\n",
       "    <tr>\n",
       "      <th>316</th>\n",
       "      <td>今日头条</td>\n",
       "      <td>10000人以上</td>\n",
       "      <td>上海 徐汇区 上海南站</td>\n",
       "      <td>本科</td>\n",
       "      <td>1-3年</td>\n",
       "      <td>广告数据分析师</td>\n",
       "      <td>11.5</td>\n",
       "      <td>18.383333</td>\n",
       "      <td>D轮及以上</td>\n",
       "      <td>1</td>\n",
       "      <td>0</td>\n",
       "      <td>1</td>\n",
       "      <td>1</td>\n",
       "      <td>1</td>\n",
       "      <td>0</td>\n",
       "      <td>0</td>\n",
       "      <td>0</td>\n",
       "      <td>0</td>\n",
       "      <td>0</td>\n",
       "    </tr>\n",
       "    <tr>\n",
       "      <th>535</th>\n",
       "      <td>高顿教育</td>\n",
       "      <td>1000-9999人</td>\n",
       "      <td>上海 虹口区 虹口足球场</td>\n",
       "      <td>本科</td>\n",
       "      <td>3-5年</td>\n",
       "      <td>大数据产品经理(数据分析师)</td>\n",
       "      <td>17.5</td>\n",
       "      <td>19.737222</td>\n",
       "      <td>C轮</td>\n",
       "      <td>0</td>\n",
       "      <td>0</td>\n",
       "      <td>0</td>\n",
       "      <td>0</td>\n",
       "      <td>0</td>\n",
       "      <td>0</td>\n",
       "      <td>0</td>\n",
       "      <td>0</td>\n",
       "      <td>0</td>\n",
       "      <td>0</td>\n",
       "    </tr>\n",
       "    <tr>\n",
       "      <th>520</th>\n",
       "      <td>浅橙科技</td>\n",
       "      <td>500-999人</td>\n",
       "      <td>上海 杨浦区 新江湾城</td>\n",
       "      <td>本科</td>\n",
       "      <td>经验不限</td>\n",
       "      <td>数据分析（风险政策）</td>\n",
       "      <td>7.5</td>\n",
       "      <td>18.483333</td>\n",
       "      <td>B轮</td>\n",
       "      <td>1</td>\n",
       "      <td>1</td>\n",
       "      <td>0</td>\n",
       "      <td>1</td>\n",
       "      <td>0</td>\n",
       "      <td>0</td>\n",
       "      <td>0</td>\n",
       "      <td>0</td>\n",
       "      <td>0</td>\n",
       "      <td>0</td>\n",
       "    </tr>\n",
       "  </tbody>\n",
       "</table>\n",
       "</div>"
      ],
      "text/plain": [
       "          公司名称        公司规模            地区 学历要求  工作经验            职位名称  salary  \\\n",
       "8       辰德网络科技    100-499人          上海     本科  1-3年            数据分析     7.0   \n",
       "224      安心记加班    100-499人     上海 徐汇区 交大   本科  3-5年         高级数据分析师    22.5   \n",
       "490  北京海金格医药科技    100-499人    上海 静安区 宜川路   本科  1年以内          临床数据分析    10.0   \n",
       "230      任意门科技    100-499人    上海 浦东新区 花木   本科  1-3年           数据分析师    22.5   \n",
       "299       天壤智能    100-499人     上海 徐汇区 龙华   本科  3-5年           数据分析师    32.5   \n",
       "329       横援投资      20-99人     上海 松江区 九亭   本科  3-5年           数据分析师    11.5   \n",
       "351        雅智捷      20-99人   上海 静安区 天目西路   本科  3-5年   高级咨询顾问 - 数据分析    15.0   \n",
       "316       今日头条    10000人以上   上海 徐汇区 上海南站   本科  1-3年         广告数据分析师    11.5   \n",
       "535       高顿教育  1000-9999人  上海 虹口区 虹口足球场   本科  3-5年  大数据产品经理(数据分析师)    17.5   \n",
       "520       浅橙科技    500-999人   上海 杨浦区 新江湾城   本科  经验不限      数据分析（风险政策）     7.5   \n",
       "\n",
       "     prediction    融资情况  Sql  Python  Excel  Sas  Spss  Hive  Hadoop  Tableau  \\\n",
       "8      8.916667     未融资    1       0      0    0     0     0       0        0   \n",
       "224   17.355556      B轮    1       1      1    0     0     1       1        0   \n",
       "490    9.800000     已上市    0       0      0    1     0     0       0        0   \n",
       "230   18.438889      C轮    1       1      0    0     0     1       0        1   \n",
       "299   18.216667      A轮    1       1      1    0     0     1       1        1   \n",
       "329   12.033333     未融资    0       0      0    0     0     0       0        0   \n",
       "351   18.466667  20-99人    1       0      0    1     0     0       0        0   \n",
       "316   18.383333   D轮及以上    1       0      1    1     1     0       0        0   \n",
       "535   19.737222      C轮    0       0      0    0     0     0       0        0   \n",
       "520   18.483333      B轮    1       1      0    1     0     0       0        0   \n",
       "\n",
       "     Ppt  Spark  \n",
       "8      0      0  \n",
       "224    0      1  \n",
       "490    0      0  \n",
       "230    0      1  \n",
       "299    0      0  \n",
       "329    0      0  \n",
       "351    0      0  \n",
       "316    0      0  \n",
       "535    0      0  \n",
       "520    0      0  "
      ]
     },
     "execution_count": 488,
     "metadata": {},
     "output_type": "execute_result"
    }
   ],
   "source": [
    "data_test_prediction.sample(10)"
   ]
  },
  {
   "cell_type": "markdown",
   "metadata": {},
   "source": [
    "---"
   ]
  }
 ],
 "metadata": {
  "kernelspec": {
   "display_name": "Python 3",
   "language": "python",
   "name": "python3"
  },
  "language_info": {
   "codemirror_mode": {
    "name": "ipython",
    "version": 3
   },
   "file_extension": ".py",
   "mimetype": "text/x-python",
   "name": "python",
   "nbconvert_exporter": "python",
   "pygments_lexer": "ipython3",
   "version": "3.6.3"
  }
 },
 "nbformat": 4,
 "nbformat_minor": 2
}
